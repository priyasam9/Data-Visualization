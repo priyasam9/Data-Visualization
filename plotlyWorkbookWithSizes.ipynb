{
 "cells": [
  {
   "cell_type": "markdown",
   "metadata": {},
   "source": [
    "<h2>Import Modules</h2>"
   ]
  },
  {
   "cell_type": "code",
   "execution_count": 41,
   "metadata": {
    "collapsed": true
   },
   "outputs": [],
   "source": [
    "import numpy as np\n",
    "import matplotlib.pyplot as plt\n",
    "import pandas as pd\n",
    "import operator\n",
    "import sys\n",
    "import plotly\n",
    "import plotly.graph_objs as go\n",
    "import plotly.dashboard_objs as dashboard\n",
    "import plotly.plotly as py\n"
   ]
  },
  {
   "cell_type": "markdown",
   "metadata": {},
   "source": [
    "<h2>Read Entire CSV for a day</h2>"
   ]
  },
  {
   "cell_type": "code",
   "execution_count": 13,
   "metadata": {
    "collapsed": true
   },
   "outputs": [],
   "source": [
    "data = pd.read_csv(\"MeasRes_0770_0002.csv\")\n"
   ]
  },
  {
   "cell_type": "markdown",
   "metadata": {},
   "source": [
    "<h2>Creation of a Dictionary with \"Channel number\" is a key and its \"associated values\" is the value</h2>"
   ]
  },
  {
   "cell_type": "code",
   "execution_count": 14,
   "metadata": {
    "collapsed": true
   },
   "outputs": [],
   "source": [
    "#load the entire .csv file into a dictionary. \n",
    "#while the .csv's rows are times and the columns represent channel numbers,\n",
    "#it is easier to analyze the changes in the channels if the \"channels\" dictionary is keyed with the channel numbers.\n",
    "#For each channel number, its associated value is a list of tuples.  \n",
    "#In each tuple, tuple[0] is the dB value and tuple[1] is the distance from the primary user threshold.\n",
    "\n",
    "def distance(dataPoint, threshold):\n",
    "    return abs(dataPoint + 90) #same as dataPoint - (-90)\n",
    "\n",
    "#create a dictionary whose keys are the channel numbers and whose values are lists of tuples.\n",
    "#each tuple contains (dBValue, distance from -90dB)\n",
    "distances = {}\n",
    "totalNumberOfRows = 0\n",
    "\n",
    "for rowNumber, row in data.iterrows():\n",
    "    channelNumber = 0\n",
    "    for value in row:\n",
    "        distanceFromMinus90 = distance(value, -90)\n",
    "        associatedValue = (value, distanceFromMinus90)\n",
    "        if channelNumber not in distances:\n",
    "            distances[channelNumber] = [associatedValue]\n",
    "        else:\n",
    "            distances[channelNumber].append(associatedValue)\n",
    "        channelNumber+=1\n",
    "\n",
    "numChannels = len(distances)\n",
    "numDataPointsPerChannel = len(distances[0]) #This is true since each row has the same number of columns"
   ]
  },
  {
   "cell_type": "markdown",
   "metadata": {},
   "source": [
    "<h2>Graph function to plot the scatter plot using plotly from the dictionary</h2>"
   ]
  },
  {
   "cell_type": "code",
   "execution_count": 25,
   "metadata": {
    "collapsed": true
   },
   "outputs": [],
   "source": [
    "def graph(distances, lowerChannelNo, upperChannelNo, maxDistanceFromThreshold, path):\n",
    "    \n",
    "    #create 3 parallel lists to pass to the plotly scatter plot.\n",
    "    channels = []\n",
    "    dBValues = []\n",
    "    relativeDistances= []\n",
    "\n",
    "    for channelNo in range(lowerChannelNo, upperChannelNo+1):\n",
    "            for pair in distances[channelNo]:\n",
    "                if pair[1] <=maxDistanceFromThreshold:\n",
    "                    channels.append(channelNo)\n",
    "                    #dBValues.append(pair[0])  #pair[0] is the dB value\n",
    "                    relativeDistances.append(pair[1]) #pair[1] is the distance\n",
    "                    \n",
    "    \n",
    "    #create a 4th list        \n",
    "    sizes = list(map(lambda distance: 10-distance, relativeDistances))\n",
    "\n",
    "    allValues = go.Scatter(\n",
    "        x = channels,\n",
    "        y = relativeDistances,\n",
    "        mode='markers',\n",
    "        marker=dict(\n",
    "            size=sizes,\n",
    "            color = \"red\", #set color equal to a variable\n",
    "        )\n",
    "    )\n",
    "    data = [allValues]\n",
    "\n",
    "    plotly.offline.plot(data, filename=path)\n"
   ]
  },
  {
   "cell_type": "code",
   "execution_count": 52,
   "metadata": {
    "collapsed": true
   },
   "outputs": [],
   "source": [
    "graph(distances, 100, 200, 10, \"channelData.html\")"
   ]
  },
  {
   "cell_type": "markdown",
   "metadata": {},
   "source": [
    "<h2>Breaking down a entire day CSV in quater length of a day</h2>"
   ]
  },
  {
   "cell_type": "code",
   "execution_count": 4,
   "metadata": {
    "collapsed": true
   },
   "outputs": [],
   "source": [
    "def graphProbabilities(day, part, distances, lowerChannelNo, upperChannelNo, maxDistanceFromThreshold):\n",
    "    channels = []\n",
    "    probabilities = []\n",
    "    colors = []\n",
    "    sizes = []\n",
    "    \n",
    "    #for each channel, calculate the probability of vulnerability w.r.t. the threshold.\n",
    "    for channelNo in range(lowerChannelNo, upperChannelNo+1):\n",
    "        totalVulnerable = 0\n",
    "        for pair in distances[channelNo]:\n",
    "            if pair[1]<=maxDistanceFromThreshold:\n",
    "                totalVulnerable+=1\n",
    "        channels.append(channelNo)\n",
    "        probabilities.append(totalVulnerable / len(distances[channelNo]))\n",
    "        \n",
    "    #map the color function over the probabilities to obtain a list of colors to pass to scatter()\n",
    "    colors = list(map(setColor, probabilities))\n",
    "   \n",
    "    #map the size function over the probabilities to obtain a list of sizes to pass to scatter()\n",
    "    sizes = list(map(setSize, probabilities))\n",
    "    \n",
    "    graph = [go.Scatter(x = channels, y=probabilities, mode=\"markers\", \n",
    "                       marker = dict(color = colors, size = sizes))]\n",
    "    \n",
    "    #calculate the start and end times for each file in order to use them as a title for the plot\n",
    "    start, startingPartOfDay = startTime(part)\n",
    "    end, endingPartOfDay = endTime(part)\n",
    "    layout = go.Layout(title=\"Vulnerability analysis of spectrum -- Day \" + str(day) +\": \" \n",
    "                       + str(normalizeTime(start)) +startingPartOfDay+ \" - \" + str(normalizeTime(end)) \n",
    "                       + endingPartOfDay,\n",
    "                       xaxis = dict(title=\"Channel Number\"), \n",
    "                       yaxis=dict(title=\"probability of vulnerability (w/distance = \" + str(maxDistanceFromThreshold)\n",
    "                                 +\"dB)\"))\n",
    "    figure = go.Figure(data=graph, layout=layout)\n",
    "    return py.plot(figure, filename=\"Day\"+str(day)+\"Part\"+str(part)+\"Distance\"+str(maxDistanceFromThreshold)\n",
    "                        +\".html\", auto_open=False)\n",
    " \n",
    "\n",
    "def startTime(part):\n",
    "    result = 11 + (part-1)*6\n",
    "    if result > 24:\n",
    "        result-=24\n",
    "    timeOfDay=None\n",
    "    if result > 12:\n",
    "        timeOfDay = \"PM\"\n",
    "    else:\n",
    "        timeOfDay = \"AM\"\n",
    "    return result, timeOfDay\n",
    "\n",
    "def endTime(part):\n",
    "    result, time = startTime(part)\n",
    "    result+=6\n",
    "    if result>24:\n",
    "        result-=24\n",
    "    timeOfDay=None\n",
    "    if result>12:\n",
    "        timeOfDay=\"PM\"\n",
    "    else:\n",
    "        timeOfDay=\"AM\"\n",
    "    return result, timeOfDay\n",
    "\n",
    "def normalizeTime(time):\n",
    "    if time>12:\n",
    "        time-=12\n",
    "    return time\n",
    "\n",
    "#make particularly vulnerable channels appear as larger bubbles in the scatter plot\n",
    "def setSize(probability):\n",
    "    if probability>=0.9:\n",
    "        return 10\n",
    "    else:\n",
    "        return 7\n",
    "\n",
    "#set the color to green (not so vulnerable), blue(around 50% probability)\n",
    "#yellow(75%) or red(90% probability of higher)\n",
    "def setColor(probability):\n",
    "    if probability <=0.25:\n",
    "        return \"rgb(27, 235, 27)\"\n",
    "    elif probability <=0.5:\n",
    "        return \"rgb(27, 48, 235)\"\n",
    "    elif probability <=0.75: \n",
    "        return \"rgb(255, 215, 0)\"\n",
    "    else: \n",
    "        return \"rgb(255, 0, 0)\""
   ]
  },
  {
   "cell_type": "code",
   "execution_count": 81,
   "metadata": {
    "collapsed": true
   },
   "outputs": [],
   "source": [
    "graphProbabilities(1, 2, distances, 1, len(distances)-1, 10)"
   ]
  },
  {
   "cell_type": "code",
   "execution_count": null,
   "metadata": {
    "collapsed": true
   },
   "outputs": [],
   "source": []
  }
 ],
 "metadata": {
  "kernelspec": {
   "display_name": "Python 3",
   "language": "python",
   "name": "python3"
  },
  "language_info": {
   "codemirror_mode": {
    "name": "ipython",
    "version": 3
   },
   "file_extension": ".py",
   "mimetype": "text/x-python",
   "name": "python",
   "nbconvert_exporter": "python",
   "pygments_lexer": "ipython3",
   "version": "3.6.3"
  }
 },
 "nbformat": 4,
 "nbformat_minor": 2
}
