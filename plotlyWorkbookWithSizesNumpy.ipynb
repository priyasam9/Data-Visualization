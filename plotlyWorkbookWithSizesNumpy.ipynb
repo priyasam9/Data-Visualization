{
 "cells": [
  {
   "cell_type": "markdown",
   "metadata": {},
   "source": [
    "<h1>Spectrum Vulnerability Meter</h1>"
   ]
  },
  {
   "cell_type": "code",
   "execution_count": 1,
   "metadata": {
    "collapsed": true
   },
   "outputs": [],
   "source": [
    "import numpy as np\n",
    "import matplotlib.pyplot as plt\n",
    "import pandas as pd\n",
    "import operator\n",
    "import sys\n",
    "import plotly\n",
    "import plotly.plotly as py\n",
    "\n",
    "import plotly.graph_objs as go\n",
    "import time\n"
   ]
  },
  {
   "cell_type": "markdown",
   "metadata": {},
   "source": [
    "<h2>Loading all data to a single text file:</h2>"
   ]
  },
  {
   "cell_type": "code",
   "execution_count": 47,
   "metadata": {},
   "outputs": [
    {
     "name": "stdout",
     "output_type": "stream",
     "text": [
      "(1000, 8192)\n",
      "(2000, 8192)\n",
      "(3000, 8192)\n",
      "(4000, 8192)\n",
      "(5000, 8192)\n",
      "(6000, 8192)\n",
      "(7000, 8192)\n",
      "(8000, 8192)\n",
      "(9000, 8192)\n",
      "(10000, 8192)\n",
      "(11000, 8192)\n",
      "(12000, 8192)\n",
      "(13000, 8192)\n",
      "(14000, 8192)\n",
      "(15000, 8192)\n",
      "(16000, 8192)\n",
      "(17000, 8192)\n",
      "(18000, 8192)\n",
      "(19000, 8192)\n",
      "(20000, 8192)\n",
      "(21000, 8192)\n",
      "(22000, 8192)\n",
      "(23000, 8192)\n",
      "(24000, 8192)\n",
      "(25000, 8192)\n",
      "(26000, 8192)\n",
      "(27000, 8192)\n",
      "(28000, 8192)\n",
      "(29000, 8192)\n",
      "(30000, 8192)\n",
      "(31000, 8192)\n",
      "(32000, 8192)\n",
      "(33000, 8192)\n",
      "(34000, 8192)\n",
      "(35000, 8192)\n",
      "(36000, 8192)\n",
      "(37000, 8192)\n",
      "(38000, 8192)\n",
      "(39000, 8192)\n",
      "(40000, 8192)\n",
      "(41000, 8192)\n",
      "(42000, 8192)\n",
      "(43000, 8192)\n",
      "(44000, 8192)\n",
      "(45000, 8192)\n",
      "(46000, 8192)\n",
      "(47000, 8192)\n",
      "(48000, 8192)\n",
      "(49000, 8192)\n"
     ]
    }
   ],
   "source": [
    "import glob\n",
    "file_list = glob.glob(\"C:\\\\Users\\\\priya\\\\Desktop\\\\Data\\\\NE5250\\\\Day3\\\\*.csv\")\n",
    "\n",
    "\n",
    "i = 0\n",
    "for f in file_list:\n",
    "    if  i == 0:\n",
    "        a = np.loadtxt(f, delimiter=',')\n",
    "    else:\n",
    "        #data = pd.read_csv(f)\n",
    "        z = np.loadtxt(f, delimiter=',')\n",
    "        a = np.concatenate((a,z))\n",
    "    print(a.shape)\n",
    "    i = i+1"
   ]
  },
  {
   "cell_type": "markdown",
   "metadata": {},
   "source": [
    "<h2> File Compression</h2>"
   ]
  },
  {
   "cell_type": "code",
   "execution_count": 48,
   "metadata": {
    "collapsed": true
   },
   "outputs": [],
   "source": [
    "np.savez_compressed('Day3_5250', data=a)"
   ]
  },
  {
   "cell_type": "markdown",
   "metadata": {},
   "source": [
    "<h2>Loading the compressed file</h2>"
   ]
  },
  {
   "cell_type": "code",
   "execution_count": 49,
   "metadata": {},
   "outputs": [
    {
     "name": "stdout",
     "output_type": "stream",
     "text": [
      "11.928054332733154\n"
     ]
    }
   ],
   "source": [
    "st = time.time()\n",
    "data = np.load('Day3_5250.npz')['data']\n",
    "end=time.time()\n",
    "print(end-st)"
   ]
  },
  {
   "cell_type": "code",
   "execution_count": 50,
   "metadata": {},
   "outputs": [
    {
     "data": {
      "text/plain": [
       "(49000, 8192)"
      ]
     },
     "execution_count": 50,
     "metadata": {},
     "output_type": "execute_result"
    }
   ],
   "source": [
    "data.shape"
   ]
  },
  {
   "cell_type": "markdown",
   "metadata": {},
   "source": [
    "<h2>Calculating the Vulnerability with Distance function </h2>"
   ]
  },
  {
   "cell_type": "code",
   "execution_count": 51,
   "metadata": {},
   "outputs": [
    {
     "data": {
      "text/plain": [
       "array([[ 0.323,  1.286,  0.077, ...,  1.244,  1.24 ,  0.405],\n",
       "       [ 0.618,  1.053,  0.786, ...,  1.97 ,  0.352,  1.393],\n",
       "       [ 1.603,  0.232,  0.601, ...,  1.828,  1.267,  1.028],\n",
       "       ..., \n",
       "       [ 0.494,  0.64 ,  0.708, ...,  0.741,  1.735,  1.354],\n",
       "       [ 0.3  ,  0.388,  0.589, ...,  2.017,  2.381,  2.211],\n",
       "       [ 0.511,  0.644,  0.178, ...,  1.51 ,  1.414,  1.626]])"
      ]
     },
     "execution_count": 51,
     "metadata": {},
     "output_type": "execute_result"
    }
   ],
   "source": [
    "distance = np.abs(-data-90)\n",
    "distance"
   ]
  },
  {
   "cell_type": "markdown",
   "metadata": {},
   "source": [
    "<h2>Plotting Scatter Plot with Plotly</h2>"
   ]
  },
  {
   "cell_type": "code",
   "execution_count": 52,
   "metadata": {
    "collapsed": true
   },
   "outputs": [],
   "source": [
    "def graphProbabilities(day, maxDistanceFromThreshold ):\n",
    "    #channels = []\n",
    "    #for channelNo in range(lowerChannelNo, upperChannelNo+1):\n",
    "        #channels.append(channelNo)\n",
    "        \n",
    "    Probabilities= np.mean(distance <=maxDistanceFromThreshold , axis=0) \n",
    "    colors = list(map(setColor, Probabilities))\n",
    "    sizes = list(map(setSize, Probabilities))\n",
    "    graph = [go.Scatter(x=np.arange(0, Probabilities.shape[0]),y=Probabilities, mode=\"markers\", \n",
    "                       marker = dict(color = colors, size = sizes))]\n",
    "    \n",
    "    layout = go.Layout(title=\"Vulnerability Meter of 5250 MHz Spectrum -- Day \" + str(day) +\": \" ,\n",
    "                       xaxis = dict(title=\"Channel Number\"), \n",
    "                       yaxis=dict(title=\"Probability of Vulnerability (w/distance = \" + str(maxDistanceFromThreshold)\n",
    "                                 +\"dB)\"))\n",
    "    figure = go.Figure(data=graph, layout=layout)\n",
    "    plotly.offline.plot(figure, filename=\"Day\"+str(day)+\"SubBand 5250MHz_\"+str(maxDistanceFromThreshold)+\".html\")\n",
    "\n",
    "\n",
    "def setSize(probability):\n",
    "    if probability>=0.9:\n",
    "        return 10\n",
    "    else:\n",
    "        return 7\n",
    "def setColor(x):\n",
    "    if x <=0.25:\n",
    "        return \"rgb(27, 235, 27)\"\n",
    "    elif x <=0.5:\n",
    "        return \"rgb(27, 48, 235)\"\n",
    "    elif x <=0.75: \n",
    "        return \"rgb(255, 215, 0)\"\n",
    "    else: \n",
    "        return \"rgb(255, 0, 0)\"\n",
    "    "
   ]
  },
  {
   "cell_type": "code",
   "execution_count": 55,
   "metadata": {
    "collapsed": true
   },
   "outputs": [],
   "source": [
    "graphProbabilities(3, 10)\n",
    "#np.arange(x.shape[0])"
   ]
  },
  {
   "cell_type": "code",
   "execution_count": null,
   "metadata": {
    "collapsed": true
   },
   "outputs": [],
   "source": []
  }
 ],
 "metadata": {
  "kernelspec": {
   "display_name": "Python 3",
   "language": "python",
   "name": "python3"
  },
  "language_info": {
   "codemirror_mode": {
    "name": "ipython",
    "version": 3
   },
   "file_extension": ".py",
   "mimetype": "text/x-python",
   "name": "python",
   "nbconvert_exporter": "python",
   "pygments_lexer": "ipython3",
   "version": "3.6.3"
  }
 },
 "nbformat": 4,
 "nbformat_minor": 2
}
